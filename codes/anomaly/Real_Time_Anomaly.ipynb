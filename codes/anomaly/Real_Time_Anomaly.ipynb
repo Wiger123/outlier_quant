{
  "nbformat": 4,
  "nbformat_minor": 0,
  "metadata": {
    "colab": {
      "name": "Real_Time_Anomaly.ipynb",
      "provenance": [],
      "collapsed_sections": []
    },
    "kernelspec": {
      "name": "python3",
      "display_name": "Python 3"
    },
    "language_info": {
      "name": "python"
    },
    "accelerator": "TPU"
  },
  "cells": [
    {
      "cell_type": "markdown",
      "metadata": {
        "id": "pQgnCJf0qpvB"
      },
      "source": [
        "### Google drive"
      ]
    },
    {
      "cell_type": "code",
      "metadata": {
        "colab": {
          "base_uri": "https://localhost:8080/"
        },
        "id": "8Xt3ojMOqa6K",
        "outputId": "c5783d3c-2b4f-417b-af57-903113477d75"
      },
      "source": [
        "from google.colab import drive\n",
        "drive.mount('/content/drive')"
      ],
      "execution_count": 28,
      "outputs": [
        {
          "output_type": "stream",
          "text": [
            "Drive already mounted at /content/drive; to attempt to forcibly remount, call drive.mount(\"/content/drive\", force_remount=True).\n"
          ],
          "name": "stdout"
        }
      ]
    },
    {
      "cell_type": "markdown",
      "metadata": {
        "id": "Wcm8QPZxq5O4"
      },
      "source": [
        "### Install requirements"
      ]
    },
    {
      "cell_type": "code",
      "metadata": {
        "colab": {
          "base_uri": "https://localhost:8080/"
        },
        "id": "hyNGmFGVq8UA",
        "outputId": "e85216e9-2d07-4755-b30f-2a36e38be6db"
      },
      "source": [
        "!pip install pyod"
      ],
      "execution_count": 29,
      "outputs": [
        {
          "output_type": "stream",
          "text": [
            "Requirement already satisfied: pyod in /usr/local/lib/python3.7/dist-packages (0.8.8)\n",
            "Requirement already satisfied: numba>=0.35 in /usr/local/lib/python3.7/dist-packages (from pyod) (0.51.2)\n",
            "Requirement already satisfied: numpy>=1.13 in /usr/local/lib/python3.7/dist-packages (from pyod) (1.19.5)\n",
            "Requirement already satisfied: joblib in /usr/local/lib/python3.7/dist-packages (from pyod) (1.0.1)\n",
            "Requirement already satisfied: six in /usr/local/lib/python3.7/dist-packages (from pyod) (1.15.0)\n",
            "Requirement already satisfied: pandas>=0.25 in /usr/local/lib/python3.7/dist-packages (from pyod) (1.1.5)\n",
            "Requirement already satisfied: statsmodels in /usr/local/lib/python3.7/dist-packages (from pyod) (0.10.2)\n",
            "Requirement already satisfied: scikit-learn>=0.19.1 in /usr/local/lib/python3.7/dist-packages (from pyod) (0.22.2.post1)\n",
            "Requirement already satisfied: matplotlib in /usr/local/lib/python3.7/dist-packages (from pyod) (3.2.2)\n",
            "Requirement already satisfied: scipy>=0.19.1 in /usr/local/lib/python3.7/dist-packages (from pyod) (1.4.1)\n",
            "Requirement already satisfied: setuptools in /usr/local/lib/python3.7/dist-packages (from numba>=0.35->pyod) (56.1.0)\n",
            "Requirement already satisfied: llvmlite<0.35,>=0.34.0.dev0 in /usr/local/lib/python3.7/dist-packages (from numba>=0.35->pyod) (0.34.0)\n",
            "Requirement already satisfied: python-dateutil>=2.7.3 in /usr/local/lib/python3.7/dist-packages (from pandas>=0.25->pyod) (2.8.1)\n",
            "Requirement already satisfied: pytz>=2017.2 in /usr/local/lib/python3.7/dist-packages (from pandas>=0.25->pyod) (2018.9)\n",
            "Requirement already satisfied: patsy>=0.4.0 in /usr/local/lib/python3.7/dist-packages (from statsmodels->pyod) (0.5.1)\n",
            "Requirement already satisfied: kiwisolver>=1.0.1 in /usr/local/lib/python3.7/dist-packages (from matplotlib->pyod) (1.3.1)\n",
            "Requirement already satisfied: pyparsing!=2.0.4,!=2.1.2,!=2.1.6,>=2.0.1 in /usr/local/lib/python3.7/dist-packages (from matplotlib->pyod) (2.4.7)\n",
            "Requirement already satisfied: cycler>=0.10 in /usr/local/lib/python3.7/dist-packages (from matplotlib->pyod) (0.10.0)\n"
          ],
          "name": "stdout"
        }
      ]
    },
    {
      "cell_type": "markdown",
      "metadata": {
        "id": "pqfFHBdSAuDZ"
      },
      "source": [
        "### Install huobi_python"
      ]
    },
    {
      "cell_type": "code",
      "metadata": {
        "colab": {
          "base_uri": "https://localhost:8080/"
        },
        "id": "rxsN64ANA55i",
        "outputId": "6cf1b91e-118c-41e6-ca62-ae5565a060ea"
      },
      "source": [
        "!pwd"
      ],
      "execution_count": 30,
      "outputs": [
        {
          "output_type": "stream",
          "text": [
            "/content/sample_data/huobi_Python\n"
          ],
          "name": "stdout"
        }
      ]
    },
    {
      "cell_type": "code",
      "metadata": {
        "colab": {
          "base_uri": "https://localhost:8080/"
        },
        "id": "FO1qWvH7A9yz",
        "outputId": "81fd617f-2689-47b5-af8f-b8b96630c804"
      },
      "source": [
        "cd sample_data/"
      ],
      "execution_count": 31,
      "outputs": [
        {
          "output_type": "stream",
          "text": [
            "[Errno 2] No such file or directory: 'sample_data/'\n",
            "/content/sample_data/huobi_Python\n"
          ],
          "name": "stdout"
        }
      ]
    },
    {
      "cell_type": "code",
      "metadata": {
        "colab": {
          "base_uri": "https://localhost:8080/"
        },
        "id": "1SH--KriA_aZ",
        "outputId": "9879ba87-3624-4b22-9b39-82fe65979bbb"
      },
      "source": [
        "!ls"
      ],
      "execution_count": 32,
      "outputs": [
        {
          "output_type": "stream",
          "text": [
            "example  LICENSE      README.md\t\tsetup.py\n",
            "huobi\t performance  requirements.txt\ttests\n"
          ],
          "name": "stdout"
        }
      ]
    },
    {
      "cell_type": "code",
      "metadata": {
        "colab": {
          "base_uri": "https://localhost:8080/"
        },
        "id": "-ZxtwwMU_4au",
        "outputId": "5f09c186-c758-4542-8ed8-30a71fb8ac6a"
      },
      "source": [
        "!git clone https://github.com/HuobiRDCenter/huobi_Python.git"
      ],
      "execution_count": 33,
      "outputs": [
        {
          "output_type": "stream",
          "text": [
            "Cloning into 'huobi_Python'...\n",
            "remote: Enumerating objects: 2235, done.\u001b[K\n",
            "remote: Counting objects: 100% (262/262), done.\u001b[K\n",
            "remote: Compressing objects: 100% (61/61), done.\u001b[K\n",
            "remote: Total 2235 (delta 222), reused 201 (delta 201), pack-reused 1973\u001b[K\n",
            "Receiving objects: 100% (2235/2235), 515.68 KiB | 5.16 MiB/s, done.\n",
            "Resolving deltas: 100% (1465/1465), done.\n"
          ],
          "name": "stdout"
        }
      ]
    },
    {
      "cell_type": "code",
      "metadata": {
        "colab": {
          "base_uri": "https://localhost:8080/"
        },
        "id": "NKAWkrHwCPDV",
        "outputId": "d12b65b6-e9f5-4177-a02f-fe5d215c6c2e"
      },
      "source": [
        "!pwd"
      ],
      "execution_count": 34,
      "outputs": [
        {
          "output_type": "stream",
          "text": [
            "/content/sample_data/huobi_Python\n"
          ],
          "name": "stdout"
        }
      ]
    },
    {
      "cell_type": "code",
      "metadata": {
        "colab": {
          "base_uri": "https://localhost:8080/"
        },
        "id": "qLh18s-EBP3J",
        "outputId": "572e3013-d314-4f68-d5c1-a08b7039add7"
      },
      "source": [
        "cd /content/sample_data/huobi_Python"
      ],
      "execution_count": 35,
      "outputs": [
        {
          "output_type": "stream",
          "text": [
            "/content/sample_data/huobi_Python\n"
          ],
          "name": "stdout"
        }
      ]
    },
    {
      "cell_type": "code",
      "metadata": {
        "colab": {
          "base_uri": "https://localhost:8080/"
        },
        "id": "u4ZSwbkKCTCc",
        "outputId": "430dfa9a-24d0-4640-b775-b3f2fb764d28"
      },
      "source": [
        "!ls"
      ],
      "execution_count": 36,
      "outputs": [
        {
          "output_type": "stream",
          "text": [
            "example  huobi_Python  performance  requirements.txt  tests\n",
            "huobi\t LICENSE       README.md    setup.py\n"
          ],
          "name": "stdout"
        }
      ]
    },
    {
      "cell_type": "markdown",
      "metadata": {
        "id": "chvbKWWHCpx2"
      },
      "source": [
        "### Import requirement"
      ]
    },
    {
      "cell_type": "code",
      "metadata": {
        "id": "3oTK6cjOCsat"
      },
      "source": [
        "from huobi.client.market import *\n",
        "from pyod.models.iforest import IForest\n",
        "import matplotlib.pyplot as plt\n",
        "import numpy as np\n",
        "import time"
      ],
      "execution_count": 37,
      "outputs": []
    },
    {
      "cell_type": "markdown",
      "metadata": {
        "id": "BUkXYYpTCl1t"
      },
      "source": [
        "### Recent data"
      ]
    },
    {
      "cell_type": "code",
      "metadata": {
        "id": "P1qwpbAOCoHM"
      },
      "source": [
        "market_client = MarketClient()\n",
        "\n",
        "def data_collection(symbol, period, size):\n",
        "  candle_list = []\n",
        "  close_list = []\n",
        "  vol_list = []\n",
        "  kline_data = market_client.get_candlestick(symbol, period, size)\n",
        "  for i in kline_data:\n",
        "    temp_data = [i.high, i.low, i.open, i.close, i.amount, i.count, i.vol]\n",
        "    candle_list.append(temp_data)\n",
        "    close_list.append(i.close)\n",
        "    vol_list.append(i.vol)\n",
        "  candle_list = list(reversed(candle_list))\n",
        "  close_list = list(reversed(close_list))\n",
        "  vol_list = list(reversed(vol_list))\n",
        "\n",
        "  candle_array = np.array(candle_list)\n",
        "\n",
        "  return candle_array, close_list, vol_list"
      ],
      "execution_count": 38,
      "outputs": []
    },
    {
      "cell_type": "markdown",
      "metadata": {
        "id": "HMbYi219tx5d"
      },
      "source": [
        "### IForest"
      ]
    },
    {
      "cell_type": "code",
      "metadata": {
        "id": "KsQyL9y0uDvj"
      },
      "source": [
        "clf = IForest()\n",
        "\n",
        "def anomaly_detect(candle_array):\n",
        "  clf.fit(candle_array)\n",
        "  y_train_pred = clf.labels_\n",
        "  y_train_scores = clf.decision_scores_\n",
        "  \n",
        "  return y_train_pred, y_train_scores"
      ],
      "execution_count": 39,
      "outputs": []
    },
    {
      "cell_type": "markdown",
      "metadata": {
        "id": "xN0FNHZf2O77"
      },
      "source": [
        "### Result"
      ]
    },
    {
      "cell_type": "code",
      "metadata": {
        "id": "f-laqTu22RWK"
      },
      "source": [
        "def anomaly_collection(y_train_pred):\n",
        "  anomaly = []\n",
        "  for i in range(len(y_train_pred)):\n",
        "    if y_train_pred[i] == 1:\n",
        "      anomaly.append(i)\n",
        "  \n",
        "  return anomaly"
      ],
      "execution_count": 40,
      "outputs": []
    },
    {
      "cell_type": "markdown",
      "metadata": {
        "id": "47CjD1a9B5yl"
      },
      "source": [
        "### Full function"
      ]
    },
    {
      "cell_type": "code",
      "metadata": {
        "colab": {
          "base_uri": "https://localhost:8080/",
          "height": 283
        },
        "id": "RQ_nHM1xB7gN",
        "outputId": "7019e62b-1e21-4684-8aee-d2327ec3a99e"
      },
      "source": [
        "candle_symbol = 'dotusdt'\n",
        "candle_period = '1min'\n",
        "candle_size = 200\n",
        "\n",
        "candle_array, close_list, vol_list = data_collection(candle_symbol, candle_period, candle_size)\n",
        "y_train_pred, y_train_scores = anomaly_detect(candle_array)\n",
        "anomaly = anomaly_collection(y_train_pred)\n",
        "\n",
        "plt.plot(close_list[0:candle_size])\n",
        "for i in range(len(anomaly)):\n",
        "  plt.plot(anomaly[i], close_list[anomaly[i]], color='r', marker='o', linewidth=0.2)\n",
        "\n",
        "if anomaly[-1] == candle_size - 1:\n",
        "  print('异常出现')\n",
        "else:\n",
        "  print('无异常')"
      ],
      "execution_count": 45,
      "outputs": [
        {
          "output_type": "stream",
          "text": [
            "无异常\n"
          ],
          "name": "stdout"
        },
        {
          "output_type": "display_data",
          "data": {
            "image/png": "[encoded data removed]",
            "text/plain": [
              "<Figure size 432x288 with 1 Axes>"
            ]
          },
          "metadata": {
            "tags": [],
            "needs_background": "light"
          }
        }
      ]
    },
    {
      "cell_type": "code",
      "metadata": {
        "colab": {
          "base_uri": "https://localhost:8080/",
          "height": 294
        },
        "id": "_-R__zFfOe0Z",
        "outputId": "919660a6-68f8-4f75-ba3f-5f86095f8790"
      },
      "source": [
        "plt.plot(vol_list)"
      ],
      "execution_count": 46,
      "outputs": [
        {
          "output_type": "execute_result",
          "data": {
            "text/plain": [
              "[<matplotlib.lines.Line2D at 0x7f1d050507d0>]"
            ]
          },
          "metadata": {
            "tags": []
          },
          "execution_count": 46
        },
        {
          "output_type": "display_data",
          "data": {
            "image/png": "[encoded data removed]",
            "text/plain": [
              "<Figure size 432x288 with 1 Axes>"
            ]
          },
          "metadata": {
            "tags": [],
            "needs_background": "light"
          }
        }
      ]
    }
  ]
}
