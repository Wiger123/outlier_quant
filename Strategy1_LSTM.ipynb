{
  "nbformat": 4,
  "nbformat_minor": 0,
  "metadata": {
    "colab": {
      "name": "Strategy1_LSTM.ipynb",
      "provenance": [],
      "collapsed_sections": []
    },
    "kernelspec": {
      "name": "python3",
      "display_name": "Python 3"
    },
    "language_info": {
      "name": "python"
    },
    "accelerator": "TPU"
  },
  "cells": [
    {
      "cell_type": "markdown",
      "metadata": {
        "id": "0HzIMDWUKper"
      },
      "source": [
        "### Google drive"
      ]
    },
    {
      "cell_type": "code",
      "metadata": {
        "id": "qn-Zk-SZJ3zq"
      },
      "source": [
        "from google.colab import drive\n",
        "drive.mount('/content/drive')"
      ],
      "execution_count": null,
      "outputs": []
    },
    {
      "cell_type": "markdown",
      "metadata": {
        "id": "TTlEWt4ascGI"
      },
      "source": [
        "### Import requirements"
      ]
    },
    {
      "cell_type": "code",
      "metadata": {
        "id": "T8aOFdIWsUG7"
      },
      "source": [
        "from collections import Counter\n",
        "import torch\n",
        "from torch import nn, optim\n",
        "from torch.utils import data as data\n",
        "import torchvision.transforms as transforms\n",
        "import torchvision.datasets as datasets\n",
        "import pandas as pd\n",
        "import numpy as np\n",
        "import matplotlib.pyplot as plt\n",
        "from sklearn.model_selection import train_test_split"
      ],
      "execution_count": null,
      "outputs": []
    },
    {
      "cell_type": "markdown",
      "metadata": {
        "id": "HmFXCg4Fz5s2"
      },
      "source": [
        "### Load data"
      ]
    },
    {
      "cell_type": "code",
      "metadata": {
        "id": "XnnpN7Edz6pv"
      },
      "source": [
        "datapath = r'/content/drive/MyDrive/dogecoin/doge_usdt_4_1_5_18.csv'\n",
        "dataset = pd.read_csv(datapath, header=None)"
      ],
      "execution_count": null,
      "outputs": []
    },
    {
      "cell_type": "code",
      "metadata": {
        "id": "lWHYMsYKM4XO"
      },
      "source": [
        "dataset.head()"
      ],
      "execution_count": null,
      "outputs": []
    },
    {
      "cell_type": "markdown",
      "metadata": {
        "id": "VtLcPtKlKuxq"
      },
      "source": [
        "### Features and labels\n"
      ]
    },
    {
      "cell_type": "code",
      "metadata": {
        "id": "rXF5x_SbKuU0"
      },
      "source": [
        "id_c = 0\n",
        "high_c = 1\n",
        "low_c = 2\n",
        "open_c = 3\n",
        "close_c = 4\n",
        "count_c = 5\n",
        "amount_c = 6\n",
        "volume_c = 7\n",
        "\n",
        "increase = 1\n",
        "decrease = 0\n",
        "\n",
        "time_series = 60"
      ],
      "execution_count": null,
      "outputs": []
    },
    {
      "cell_type": "code",
      "metadata": {
        "id": "L3oPishFO_z7"
      },
      "source": [
        "feature_dataset = dataset.drop(id_c, axis=1)"
      ],
      "execution_count": null,
      "outputs": []
    },
    {
      "cell_type": "code",
      "metadata": {
        "id": "FBF3YRwAPbex"
      },
      "source": [
        "feature_dataset.head()"
      ],
      "execution_count": null,
      "outputs": []
    },
    {
      "cell_type": "code",
      "metadata": {
        "id": "EisdKJWXQUu4"
      },
      "source": [
        "features = []\n",
        "labels = []\n",
        "\n",
        "for i in range(time_series, len(feature_dataset)):\n",
        "  full_temp = feature_dataset.loc[i - time_series:i]\n",
        "  feature_temp = full_temp.iloc[0:time_series]\n",
        "  feature_temp = feature_temp.values\n",
        "  features.append(feature_temp)\n",
        "\n",
        "  open_temp = full_temp.iloc[-1, open_c - 1]\n",
        "  close_temp = full_temp.iloc[-1, close_c - 1]\n",
        "  label_temp = increase if open_temp <= close_temp else decrease\n",
        "  labels.append(label_temp)\n",
        "\n",
        "features = np.array(features)\n",
        "labels = np.array(labels)"
      ],
      "execution_count": null,
      "outputs": []
    },
    {
      "cell_type": "code",
      "metadata": {
        "id": "HQpHRf_XVhOh"
      },
      "source": [
        "print(features.shape)\n",
        "print(labels.shape)"
      ],
      "execution_count": null,
      "outputs": []
    },
    {
      "cell_type": "markdown",
      "metadata": {
        "id": "JQ63EwZ0XFJV"
      },
      "source": [
        "### Train dataset and test dataset"
      ]
    },
    {
      "cell_type": "code",
      "metadata": {
        "id": "EVKITu5LYh8Y"
      },
      "source": [
        "test_full_ratio = 0.2\n",
        "random_seed = 15"
      ],
      "execution_count": null,
      "outputs": []
    },
    {
      "cell_type": "code",
      "metadata": {
        "id": "_AIcdRnaXIzM"
      },
      "source": [
        "train_x, test_x, train_y, test_y = train_test_split(features, labels, test_size=test_full_ratio, random_state=random_seed)"
      ],
      "execution_count": null,
      "outputs": []
    },
    {
      "cell_type": "code",
      "metadata": {
        "id": "NyG6ua55Y2eZ"
      },
      "source": [
        "print(train_x.shape)\n",
        "print(train_y.shape)\n",
        "print(test_x.shape)\n",
        "print(test_y.shape)"
      ],
      "execution_count": null,
      "outputs": []
    },
    {
      "cell_type": "markdown",
      "metadata": {
        "id": "3AGUDqPhWvWd"
      },
      "source": [
        "### Data to torch"
      ]
    },
    {
      "cell_type": "code",
      "metadata": {
        "id": "FVoqnrkkWyLO"
      },
      "source": [
        "train_x = torch.from_numpy(train_x)\n",
        "train_y = torch.from_numpy(train_y)\n",
        "\n",
        "test_x = torch.from_numpy(test_x)\n",
        "test_y = torch.from_numpy(test_y)"
      ],
      "execution_count": null,
      "outputs": []
    },
    {
      "cell_type": "markdown",
      "metadata": {
        "id": "w8A-mNduDfnS"
      },
      "source": [
        "### Batch size"
      ]
    },
    {
      "cell_type": "code",
      "metadata": {
        "id": "h-XOUrRWDhJ7"
      },
      "source": [
        "BATCH_SIZE = 128\n",
        "\n",
        "torch_train_dataset = data.TensorDataset(train_x, train_y)\n",
        "train_iterator = data.DataLoader(\n",
        "  dataset = torch_train_dataset,\n",
        "  batch_size = BATCH_SIZE\n",
        ")\n",
        "\n",
        "torch_test_dataset = data.TensorDataset(test_x, test_y)\n",
        "test_iterator = data.DataLoader(\n",
        "  dataset = torch_test_dataset,\n",
        "  batch_size = BATCH_SIZE\n",
        ")"
      ],
      "execution_count": null,
      "outputs": []
    },
    {
      "cell_type": "markdown",
      "metadata": {
        "id": "hebgk8gq1QeH"
      },
      "source": [
        "### LSTM"
      ]
    },
    {
      "cell_type": "code",
      "metadata": {
        "id": "jCctXeSR1SOn"
      },
      "source": [
        "class RNN_Model(nn.Module):\n",
        "  def __init__(self, input_dim, hidden_dim, layer_dim, output_dim):\n",
        "    super(RNN_Model, self).__init__()\n",
        "    self.hidden_dim = hidden_dim\n",
        "    self.layer_dim = layer_dim\n",
        "    self.rnn = nn.RNN(input_dim, hidden_dim, layer_dim, batch_first=True, nonlinearity='tanh')\n",
        "    self.fc = nn.Linear(hidden_dim, output_dim)\n",
        "      \n",
        "  def forward(self, x):\n",
        "    # (layer_dim, batch_size, hidden_dim)\n",
        "    h0 = torch.zeros(self.layer_dim, x.size(0), self.hidden_dim).requires_grad_().to(device)\n",
        "    out, hn = self.rnn(x, h0.detach())\n",
        "    out = self.fc(out[:, -1, :])\n",
        "    return out"
      ],
      "execution_count": null,
      "outputs": []
    },
    {
      "cell_type": "markdown",
      "metadata": {
        "id": "zkawv2a6S8L1"
      },
      "source": [
        "### Init"
      ]
    },
    {
      "cell_type": "code",
      "metadata": {
        "id": "eKuDews4S9yP"
      },
      "source": [
        "input_dim = 7\n",
        "hidden_dim = 256\n",
        "layer_dim = 2\n",
        "output_dim = 2\n",
        "\n",
        "model = RNN_Model(input_dim, hidden_dim, layer_dim, output_dim)\n",
        "\n",
        "device = torch.device('cuda:0' if torch.cuda.is_available() else 'cpu')"
      ],
      "execution_count": null,
      "outputs": []
    },
    {
      "cell_type": "markdown",
      "metadata": {
        "id": "l3KKmMThuUED"
      },
      "source": [
        "### Loss"
      ]
    },
    {
      "cell_type": "code",
      "metadata": {
        "id": "cHb3cb_huWJb"
      },
      "source": [
        "criterion = nn.CrossEntropyLoss()"
      ],
      "execution_count": null,
      "outputs": []
    },
    {
      "cell_type": "markdown",
      "metadata": {
        "id": "db2Oz9c8vbao"
      },
      "source": [
        "### Optimizer"
      ]
    },
    {
      "cell_type": "code",
      "metadata": {
        "id": "vbz2dcd9veTI"
      },
      "source": [
        "learning_rate = 0.01\n",
        "\n",
        "optimizer = torch.optim.SGD(model.parameters(), lr=learning_rate)"
      ],
      "execution_count": null,
      "outputs": []
    },
    {
      "cell_type": "markdown",
      "metadata": {
        "id": "Uj7XOia0DHJc"
      },
      "source": [
        "### Train"
      ]
    },
    {
      "cell_type": "code",
      "metadata": {
        "id": "qbgNv6PJDJTj"
      },
      "source": [
        "sequence_dim = time_series\n",
        "loss_list = []\n",
        "accuracy_list = []\n",
        "iteration_list = []\n",
        "\n",
        "EPOCHS = 10\n",
        "iter = 0\n",
        "print_times = 50\n",
        "for epoch in range(EPOCHS):\n",
        "  for i, (fea, lab) in enumerate(train_iterator):\n",
        "    model.train()\n",
        "    fea = fea.view(-1, sequence_dim, input_dim).requires_grad_().float().to(device) \n",
        "    lab = lab.to(device)\n",
        "\n",
        "    optimizer.zero_grad()\n",
        "    outputs = model(fea)\n",
        "    loss = criterion(outputs, lab)\n",
        "    loss.backward()\n",
        "\n",
        "    optimizer.step()\n",
        "    iter += 1\n",
        "\n",
        "    if iter % print_times == 0:\n",
        "      model.eval()\n",
        "      correct = 0.0\n",
        "      total = 0.0\n",
        "\n",
        "      for fea, lab in test_iterator:\n",
        "        fea = fea.view(-1, sequence_dim, input_dim).float().to(device) \n",
        "        outputs = model(fea)\n",
        "        predict = torch.max(outputs.data, 1)[1]\n",
        "        total += lab.size(0)\n",
        "\n",
        "        if torch.cuda.is_available():\n",
        "          correct += (predict.gpu() == lab.gpu()).sum()\n",
        "        else:\n",
        "          correct += (predict == lab).sum()\n",
        "\n",
        "      accuracy = correct / total * 100\n",
        "      loss_list.append(loss.data)\n",
        "      accuracy_list.append(accuracy)\n",
        "      iteration_list.append(iter)\n",
        "\n",
        "      print(\"loop : {}, Loss : {}, Accuracy : {}\".format(iter, loss.item(), accuracy))"
      ],
      "execution_count": null,
      "outputs": []
    },
    {
      "cell_type": "markdown",
      "metadata": {
        "id": "e_ZjTCOJwPdY"
      },
      "source": [
        "### Loss"
      ]
    },
    {
      "cell_type": "code",
      "metadata": {
        "id": "mbJjNqLQwQr4"
      },
      "source": [
        "plt.plot(iteration_list, loss_list)\n",
        "plt.xlabel('Number of Iteration')\n",
        "plt.ylabel('Loss')\n",
        "plt.title('RNN')\n",
        "plt.show()"
      ],
      "execution_count": null,
      "outputs": []
    },
    {
      "cell_type": "markdown",
      "metadata": {
        "id": "5C-2IPQN1Lgb"
      },
      "source": [
        "### Accuracy"
      ]
    },
    {
      "cell_type": "code",
      "metadata": {
        "id": "3xRlGx2ZyU5V"
      },
      "source": [
        "plt.plot(iteration_list, accuracy_list, color='r')\n",
        "plt.xlabel('Number of Iteration')\n",
        "plt.ylabel('Accuracy')\n",
        "plt.title('LSTM')\n",
        "plt.savefig('LSTM_mnist.png')\n",
        "plt.show()"
      ],
      "execution_count": null,
      "outputs": []
    }
  ]
}