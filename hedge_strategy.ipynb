{
  "nbformat": 4,
  "nbformat_minor": 0,
  "metadata": {
    "colab": {
      "name": "hedge_strategy.ipynb",
      "provenance": [],
      "collapsed_sections": [],
      "authorship_tag": "ABX9TyPsalittg9bHTa1KejTMyq8",
      "include_colab_link": true
    },
    "kernelspec": {
      "name": "python3",
      "display_name": "Python 3"
    },
    "language_info": {
      "name": "python"
    }
  },
  "cells": [
    {
      "cell_type": "markdown",
      "metadata": {
        "id": "view-in-github",
        "colab_type": "text"
      },
      "source": [
        "<a href=\"https://colab.research.google.com/github/Wiger123/outlier_quant/blob/main/hedge_strategy.ipynb\" target=\"_parent\"><img src=\"https://colab.research.google.com/assets/colab-badge.svg\" alt=\"Open In Colab\"/></a>"
      ]
    },
    {
      "cell_type": "markdown",
      "metadata": {
        "id": "ErBPrmlWCZO9"
      },
      "source": [
        "### 强平价计算"
      ]
    },
    {
      "cell_type": "code",
      "metadata": {
        "id": "NCkkoEpUCSwM"
      },
      "source": [
        "maint_lookup_table = [\n",
        "  (50_000, 0.4, 0),\n",
        "  (250_000, 0.5, 50),\n",
        "  (1_000_000, 1.0, 1_300),\n",
        "  (10_000_000, 2.5, 16_300),\n",
        "  (20_000_000, 5.0, 266_300),\n",
        "  (50_000_000, 10.0, 1_266_300),\n",
        "  (100_000_000, 12.5, 2_516_300),\n",
        "  (200_000_000, 15.0, 5_016_300),\n",
        "  (300_000_000, 25.0, 25_016_300),\n",
        "  (500_000_000, 50.0, 100_016_300)\n",
        "]\n",
        "\n",
        "\n",
        "def binance_btc_liq_balance(wallet_balance, contract_qty, entry_price):\n",
        "  for max_position, maint_margin_rate_pct, maint_amount in maint_lookup_table:\n",
        "    maint_margin_rate = maint_margin_rate_pct / 100\n",
        "    liq_price = (wallet_balance + maint_amount - contract_qty*entry_price) / (abs(contract_qty) * (maint_margin_rate - (1 if contract_qty>=0 else -1)))\n",
        "    base_balance = liq_price * abs(contract_qty)\n",
        "    if base_balance <= max_position:\n",
        "      break\n",
        "  return liq_price\n",
        "\n",
        "\n",
        "def binance_btc_liq_leverage(leverage, contract_qty, entry_price):\n",
        "  wallet_balance = abs(contract_qty) * entry_price / leverage\n",
        "  return binance_btc_liq_balance(wallet_balance, contract_qty, entry_price)"
      ],
      "execution_count": 1,
      "outputs": []
    },
    {
      "cell_type": "markdown",
      "metadata": {
        "id": "K4oBn5FuC3ZD"
      },
      "source": [
        "### 边缘价格"
      ]
    },
    {
      "cell_type": "code",
      "metadata": {
        "id": "FD42hBXjC7cM"
      },
      "source": [
        "def long_liquidation_price(lev, qty, ent, delta):\n",
        "  return binance_btc_liq_leverage(leverage=lev, contract_qty=qty, entry_price=ent) + delta\n",
        "\n",
        "\n",
        "def short_liquidation_price(lev, qty, ent, delta):\n",
        "  return binance_btc_liq_leverage(leverage=lev, contract_qty=-qty, entry_price=ent) - delta"
      ],
      "execution_count": 2,
      "outputs": []
    },
    {
      "cell_type": "markdown",
      "metadata": {
        "id": "DVp7Vo6CEIO_"
      },
      "source": [
        "### 测试边缘价格"
      ]
    },
    {
      "cell_type": "code",
      "metadata": {
        "id": "dGtC6-1HEKH_"
      },
      "source": [
        "test_long_list = [\n",
        "  (50, 0.510, 49019.99, 48242.37),\n",
        "  (50, 0.310, 47755.10, 46994.77),\n",
        "  (25, 0.010, 48259.20, 46521.13),\n",
        "  (50, 0.050, 48975.01, 48203.92),\n",
        "  (50, 0.051, 49334.51, 48555.74),\n",
        "  (20, 0.199, 3192.00, 3048.28),\n",
        "  (10, 350.4, 8.2055, 7.4612)\n",
        "]\n",
        "\n",
        "test_short_list = [\n",
        "  (50, 0.509, 49036.12, 49807.80),\n",
        "  (25, 0.010, 48259.64, 49986.87),\n",
        "  (50, 0.050, 48989.20, 49750.39),\n",
        "  (50, 0.150, 49429.99, 50206.25),\n",
        "  (50, 0.051, 49353.69, 50120.99),\n",
        "  (20, 0.199, 3199.00, 3341.60),\n",
        "  (50, 0.426, 48073.33, 48833.46)\n",
        "]\n",
        "\n",
        "def test_calc_result():\n",
        "  # 多单测试\n",
        "  print(\"==========多单==========\")\n",
        "  for lev, q, entry, liquid in test_long_list:\n",
        "    liquid_calc = long_liquidation_price(lev, q, entry, 50)\n",
        "    print(\"计算强平价:{0}, 实际强平价:{1}, 差值:{2}, 是否合理:{3}, 差值比例:{4}%\".format(round(liquid_calc, 2), liquid, round(liquid-liquid_calc, 2), liquid<liquid_calc, round((liquid-liquid_calc)/liquid*100, 5)))\n",
        "\n",
        "  # 空单测试\n",
        "  print(\"==========空单==========\")\n",
        "  for lev, q, entry, liquid in test_short_list:\n",
        "    liquid_calc = short_liquidation_price(lev, q, entry, 50)\n",
        "    print(\"计算强平价:{0}, 实际强平价:{1}, 差值:{2}, 是否合理:{3}, 差值比例:{4}%\".format(round(liquid_calc, 2), liquid, round(liquid-liquid_calc, 2), liquid>liquid_calc, round((liquid-liquid_calc)/liquid*100, 5)))"
      ],
      "execution_count": 3,
      "outputs": []
    },
    {
      "cell_type": "code",
      "metadata": {
        "colab": {
          "base_uri": "https://localhost:8080/"
        },
        "id": "WMILz_5gEwJ3",
        "outputId": "e5e8dd0a-390d-4fa4-a6a3-d57b3a81b50a"
      },
      "source": [
        "test_calc_result()"
      ],
      "execution_count": 4,
      "outputs": [
        {
          "output_type": "stream",
          "name": "stdout",
          "text": [
            "==========多单==========\n",
            "计算强平价:48282.52, 实际强平价:48242.37, 差值:-40.15, 是否合理:True, 差值比例:-0.08323%\n",
            "计算强平价:47037.95, 实际强平价:46994.77, 差值:-43.18, 是否合理:True, 差值比例:-0.09188%\n",
            "计算强平价:46564.89, 实际强平价:46521.13, 差值:-43.76, 是否合理:True, 差值比例:-0.09407%\n",
            "计算强平价:48238.26, 实际强平价:48203.92, 差值:-34.34, 是否合理:True, 差值比例:-0.07124%\n",
            "计算强平价:48591.99, 实际强平价:48555.74, 差值:-36.25, 是否合理:True, 差值比例:-0.07465%\n",
            "计算强平价:3094.58, 实际强平价:3048.28, 差值:-46.3, 是否合理:True, 差值比例:-1.51883%\n",
            "计算强平价:57.41, 实际强平价:7.4612, 差值:-49.95, 是否合理:True, 差值比例:-669.50904%\n",
            "==========空单==========\n",
            "计算强平价:49767.57, 实际强平价:49807.8, 差值:40.23, 是否合理:True, 差值比例:0.08077%\n",
            "计算强平价:49940.07, 实际强平价:49986.87, 差值:46.8, 是否合理:True, 差值比例:0.09363%\n",
            "计算强平价:49719.9, 实际强平价:49750.39, 差值:30.49, 是否合理:True, 差值比例:0.06128%\n",
            "计算强平价:50167.72, 实际强平价:50206.25, 差值:38.53, 是否合理:True, 差值比例:0.07675%\n",
            "计算强平价:50090.2, 实际强平价:50120.99, 差值:30.79, 是否合理:True, 差值比例:0.06143%\n",
            "计算强平价:3295.57, 实际强平价:3341.6, 差值:46.03, 是否合理:True, 差值比例:1.37755%\n",
            "计算强平价:48789.44, 实际强平价:48833.46, 差值:44.02, 是否合理:True, 差值比例:0.09015%\n"
          ]
        }
      ]
    },
    {
      "cell_type": "markdown",
      "metadata": {
        "id": "0dIRZ00QFXyG"
      },
      "source": [
        "### 平均开仓价格"
      ]
    },
    {
      "cell_type": "code",
      "metadata": {
        "id": "MGxFwLoSFbhP"
      },
      "source": [
        "def average_entry_price(prc_a, qty_a, prc_b, qty_b):\n",
        "  return (prc_a * qty_a + prc_b * qty_b) / (qty_a + qty_b)"
      ],
      "execution_count": 5,
      "outputs": []
    },
    {
      "cell_type": "markdown",
      "metadata": {
        "id": "WaaotsfUGajT"
      },
      "source": [
        "### 测试平均开仓价格"
      ]
    },
    {
      "cell_type": "code",
      "metadata": {
        "colab": {
          "base_uri": "https://localhost:8080/"
        },
        "id": "brL0KRvuGd_z",
        "outputId": "c7bd3a8b-48b3-4813-9011-cf7017d662f4"
      },
      "source": [
        "print(\"==========均价==========\")\n",
        "print(average_entry_price(10, 2, 20, 3))"
      ],
      "execution_count": 6,
      "outputs": [
        {
          "output_type": "stream",
          "name": "stdout",
          "text": [
            "==========均价==========\n",
            "16.0\n"
          ]
        }
      ]
    },
    {
      "cell_type": "markdown",
      "metadata": {
        "id": "qQ5EScqTHKVj"
      },
      "source": [
        "### 计算可开量"
      ]
    },
    {
      "cell_type": "code",
      "metadata": {
        "id": "SIOOkUDVHMqM"
      },
      "source": [
        "def get_quantity(blc, lev, prc, ratio=0.99):\n",
        "  return blc * lev / prc * ratio"
      ],
      "execution_count": 7,
      "outputs": []
    },
    {
      "cell_type": "markdown",
      "metadata": {
        "id": "MTWcBXY3HsJf"
      },
      "source": [
        "### 测试可开量"
      ]
    },
    {
      "cell_type": "code",
      "metadata": {
        "colab": {
          "base_uri": "https://localhost:8080/"
        },
        "id": "sF71_78rHrlO",
        "outputId": "8cc375d8-a874-4a9b-ff39-481aadd9e9a2"
      },
      "source": [
        "print(\"==========可开量==========\")\n",
        "print(get_quantity(249.99, 25, 49839))"
      ],
      "execution_count": 8,
      "outputs": [
        {
          "output_type": "stream",
          "name": "stdout",
          "text": [
            "==========可开量==========\n",
            "0.12414479624390538\n"
          ]
        }
      ]
    },
    {
      "cell_type": "markdown",
      "metadata": {
        "id": "oMKmM6cVQX4_"
      },
      "source": [
        "### 网格挂单"
      ]
    },
    {
      "cell_type": "code",
      "metadata": {
        "id": "U3azJHY2SEJA"
      },
      "source": [
        "balance = 10000\n",
        "ratio_list = [3, 3, 6, 12, 24]\n",
        "leverage = 30\n",
        "mark_price = 49423.33\n",
        "delta = 60"
      ],
      "execution_count": 26,
      "outputs": []
    },
    {
      "cell_type": "code",
      "metadata": {
        "id": "ocoRMFiK6zNq"
      },
      "source": [
        "def get_price_list(balance, ratio_list, leverage, mark_price, dec_price, dec_quantity):\n",
        "  long_price_list = []\n",
        "  long_quant_list = []\n",
        "  short_price_list = []\n",
        "  short_quant_list = []\n",
        "\n",
        "  qty = get_quantity(balance, leverage, mark_price)\n",
        "  qty_long = 0\n",
        "  qty_short = 0\n",
        "  last_avg_prc_long = mark_price\n",
        "  last_avg_prc_short = mark_price\n",
        "\n",
        "  for i in range(len(ratio_list)):\n",
        "    # 1. added quantity\n",
        "    long_q = qty * ratio_list[i] / 100\n",
        "    long_quant_list.append(round(long_q, dec_quantity))\n",
        "    # 2. last avg price and last liquid price\n",
        "    if i == 0:\n",
        "      long_p = mark_price\n",
        "    else:\n",
        "      long_p = long_liquidation_price(leverage, qty_long, last_avg_prc_long, delta)\n",
        "    # 3. append last liquid price\n",
        "    long_price_list.append(round(long_p, dec_price))\n",
        "    # 4. update last avg entry price\n",
        "    last_avg_prc_long = average_entry_price(long_p, qty_long, last_avg_prc_long, long_q)\n",
        "    # 5. update quantity\n",
        "    qty_long += long_q\n",
        "\n",
        "    # 1. added quantity\n",
        "    short_q = qty * ratio_list[i] / 100\n",
        "    short_quant_list.append(round(short_q, dec_quantity))\n",
        "    # 2. last avg price and last liquid price\n",
        "    if i == 0:\n",
        "      short_p = mark_price\n",
        "    else:\n",
        "      short_p = short_liquidation_price(leverage, qty_short, last_avg_prc_short, delta)\n",
        "    # 3. append last liquid price\n",
        "    short_price_list.append(round(short_p, dec_price))\n",
        "    # 4. update last avg entry price\n",
        "    last_avg_prc_short = average_entry_price(short_p, qty_short, last_avg_prc_short, short_q)\n",
        "    # 5. update quantity\n",
        "    qty_short += short_q\n",
        "  \n",
        "  return long_price_list, long_quant_list, short_price_list, short_quant_list"
      ],
      "execution_count": 27,
      "outputs": []
    },
    {
      "cell_type": "markdown",
      "metadata": {
        "id": "CMqE_1iyc8UR"
      },
      "source": [
        "### 测试网格挂单"
      ]
    },
    {
      "cell_type": "code",
      "metadata": {
        "colab": {
          "base_uri": "https://localhost:8080/"
        },
        "id": "QXftHVm6c_YB",
        "outputId": "90e83faa-4601-46ff-87be-051ae3b17d77"
      },
      "source": [
        "long_p, long_q, short_p, short_q = get_price_list(balance, ratio_list, leverage, mark_price, 2, 3)\n",
        "print('\\n', long_p, '\\n', long_q, '\\n', short_p, '\\n', short_q)"
      ],
      "execution_count": 28,
      "outputs": [
        {
          "output_type": "stream",
          "name": "stdout",
          "text": [
            "\n",
            " [49423.33, 48027.76, 47350.52, 46683.26, 46037.17] \n",
            " [0.18, 0.18, 0.361, 0.721, 1.442] \n",
            " [49423.33, 50807.31, 51519.51, 52242.12, 52957.01] \n",
            " [0.18, 0.18, 0.361, 0.721, 1.442]\n"
          ]
        }
      ]
    }
  ]
}