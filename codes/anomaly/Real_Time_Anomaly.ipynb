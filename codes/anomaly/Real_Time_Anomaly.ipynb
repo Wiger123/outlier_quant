{
  "nbformat": 4,
  "nbformat_minor": 0,
  "metadata": {
    "colab": {
      "name": "Real_Time_Anomaly.ipynb",
      "provenance": [],
      "collapsed_sections": []
    },
    "kernelspec": {
      "name": "python3",
      "display_name": "Python 3"
    },
    "language_info": {
      "name": "python"
    },
    "accelerator": "TPU"
  },
  "cells": [
    {
      "cell_type": "markdown",
      "metadata": {
        "id": "pQgnCJf0qpvB"
      },
      "source": [
        "### Google drive"
      ]
    },
    {
      "cell_type": "code",
      "metadata": {
        "colab": {
          "base_uri": "https://localhost:8080/"
        },
        "id": "8Xt3ojMOqa6K",
        "outputId": "416b8486-6ee9-48fe-a1e0-d7abfa6c386a"
      },
      "source": [
        "from google.colab import drive\n",
        "drive.mount('/content/drive')"
      ],
      "execution_count": null,
      "outputs": [
        {
          "output_type": "stream",
          "text": [
            "Drive already mounted at /content/drive; to attempt to forcibly remount, call drive.mount(\"/content/drive\", force_remount=True).\n"
          ],
          "name": "stdout"
        }
      ]
    },
    {
      "cell_type": "markdown",
      "metadata": {
        "id": "Wcm8QPZxq5O4"
      },
      "source": [
        "### Install requirements"
      ]
    },
    {
      "cell_type": "code",
      "metadata": {
        "colab": {
          "base_uri": "https://localhost:8080/"
        },
        "id": "hyNGmFGVq8UA",
        "outputId": "6e5c2c62-bbb9-4969-f1fe-814babaafa20"
      },
      "source": [
        "!pip install pyod"
      ],
      "execution_count": null,
      "outputs": [
        {
          "output_type": "stream",
          "text": [
            "Requirement already satisfied: pyod in /usr/local/lib/python3.7/dist-packages (0.8.8)\n",
            "Requirement already satisfied: scikit-learn>=0.19.1 in /usr/local/lib/python3.7/dist-packages (from pyod) (0.22.2.post1)\n",
            "Requirement already satisfied: statsmodels in /usr/local/lib/python3.7/dist-packages (from pyod) (0.10.2)\n",
            "Requirement already satisfied: pandas>=0.25 in /usr/local/lib/python3.7/dist-packages (from pyod) (1.1.5)\n",
            "Requirement already satisfied: matplotlib in /usr/local/lib/python3.7/dist-packages (from pyod) (3.2.2)\n",
            "Requirement already satisfied: six in /usr/local/lib/python3.7/dist-packages (from pyod) (1.15.0)\n",
            "Requirement already satisfied: scipy>=0.19.1 in /usr/local/lib/python3.7/dist-packages (from pyod) (1.4.1)\n",
            "Requirement already satisfied: numpy>=1.13 in /usr/local/lib/python3.7/dist-packages (from pyod) (1.19.5)\n",
            "Requirement already satisfied: numba>=0.35 in /usr/local/lib/python3.7/dist-packages (from pyod) (0.51.2)\n",
            "Requirement already satisfied: joblib in /usr/local/lib/python3.7/dist-packages (from pyod) (1.0.1)\n",
            "Requirement already satisfied: patsy>=0.4.0 in /usr/local/lib/python3.7/dist-packages (from statsmodels->pyod) (0.5.1)\n",
            "Requirement already satisfied: python-dateutil>=2.7.3 in /usr/local/lib/python3.7/dist-packages (from pandas>=0.25->pyod) (2.8.1)\n",
            "Requirement already satisfied: pytz>=2017.2 in /usr/local/lib/python3.7/dist-packages (from pandas>=0.25->pyod) (2018.9)\n",
            "Requirement already satisfied: pyparsing!=2.0.4,!=2.1.2,!=2.1.6,>=2.0.1 in /usr/local/lib/python3.7/dist-packages (from matplotlib->pyod) (2.4.7)\n",
            "Requirement already satisfied: kiwisolver>=1.0.1 in /usr/local/lib/python3.7/dist-packages (from matplotlib->pyod) (1.3.1)\n",
            "Requirement already satisfied: cycler>=0.10 in /usr/local/lib/python3.7/dist-packages (from matplotlib->pyod) (0.10.0)\n",
            "Requirement already satisfied: llvmlite<0.35,>=0.34.0.dev0 in /usr/local/lib/python3.7/dist-packages (from numba>=0.35->pyod) (0.34.0)\n",
            "Requirement already satisfied: setuptools in /usr/local/lib/python3.7/dist-packages (from numba>=0.35->pyod) (56.1.0)\n"
          ],
          "name": "stdout"
        }
      ]
    },
    {
      "cell_type": "markdown",
      "metadata": {
        "id": "pqfFHBdSAuDZ"
      },
      "source": [
        "### Install huobi_python"
      ]
    },
    {
      "cell_type": "code",
      "metadata": {
        "colab": {
          "base_uri": "https://localhost:8080/"
        },
        "id": "rxsN64ANA55i",
        "outputId": "9fe4a429-7b88-4e9e-98f3-77fe1e8ad0a9"
      },
      "source": [
        "!pwd"
      ],
      "execution_count": null,
      "outputs": [
        {
          "output_type": "stream",
          "text": [
            "/content\n"
          ],
          "name": "stdout"
        }
      ]
    },
    {
      "cell_type": "code",
      "metadata": {
        "colab": {
          "base_uri": "https://localhost:8080/"
        },
        "id": "FO1qWvH7A9yz",
        "outputId": "b996614d-679b-4139-d371-e9527476a3fa"
      },
      "source": [
        "cd sample_data/"
      ],
      "execution_count": null,
      "outputs": [
        {
          "output_type": "stream",
          "text": [
            "/content/sample_data\n"
          ],
          "name": "stdout"
        }
      ]
    },
    {
      "cell_type": "code",
      "metadata": {
        "colab": {
          "base_uri": "https://localhost:8080/"
        },
        "id": "1SH--KriA_aZ",
        "outputId": "37c51cdd-f7cf-4f67-c444-7f46e50f54df"
      },
      "source": [
        "!ls"
      ],
      "execution_count": null,
      "outputs": [
        {
          "output_type": "stream",
          "text": [
            "anscombe.json\t\t      huobi_Python\t     README.md\n",
            "california_housing_test.csv   mnist_test.csv\n",
            "california_housing_train.csv  mnist_train_small.csv\n"
          ],
          "name": "stdout"
        }
      ]
    },
    {
      "cell_type": "code",
      "metadata": {
        "colab": {
          "base_uri": "https://localhost:8080/"
        },
        "id": "-ZxtwwMU_4au",
        "outputId": "73fea15a-9be0-461b-ae1a-ce406b919180"
      },
      "source": [
        "!git clone https://github.com/HuobiRDCenter/huobi_Python.git"
      ],
      "execution_count": null,
      "outputs": [
        {
          "output_type": "stream",
          "text": [
            "fatal: destination path 'huobi_Python' already exists and is not an empty directory.\n"
          ],
          "name": "stdout"
        }
      ]
    },
    {
      "cell_type": "code",
      "metadata": {
        "colab": {
          "base_uri": "https://localhost:8080/"
        },
        "id": "NKAWkrHwCPDV",
        "outputId": "3b1f702f-bcac-4e96-f1de-712d42c6c5e6"
      },
      "source": [
        "!pwd"
      ],
      "execution_count": null,
      "outputs": [
        {
          "output_type": "stream",
          "text": [
            "/content/sample_data\n"
          ],
          "name": "stdout"
        }
      ]
    },
    {
      "cell_type": "code",
      "metadata": {
        "colab": {
          "base_uri": "https://localhost:8080/"
        },
        "id": "qLh18s-EBP3J",
        "outputId": "7b86e77f-ff92-4c16-9142-6663ce36c730"
      },
      "source": [
        "cd /content/sample_data/huobi_Python"
      ],
      "execution_count": null,
      "outputs": [
        {
          "output_type": "stream",
          "text": [
            "/content/sample_data/huobi_Python\n"
          ],
          "name": "stdout"
        }
      ]
    },
    {
      "cell_type": "code",
      "metadata": {
        "colab": {
          "base_uri": "https://localhost:8080/"
        },
        "id": "u4ZSwbkKCTCc",
        "outputId": "25ba4685-1da4-43ab-feb5-0afb34a7560a"
      },
      "source": [
        "!ls"
      ],
      "execution_count": null,
      "outputs": [
        {
          "output_type": "stream",
          "text": [
            "example  LICENSE      README.md\t\tsetup.py\n",
            "huobi\t performance  requirements.txt\ttests\n"
          ],
          "name": "stdout"
        }
      ]
    },
    {
      "cell_type": "markdown",
      "metadata": {
        "id": "chvbKWWHCpx2"
      },
      "source": [
        "### Import requirement"
      ]
    },
    {
      "cell_type": "code",
      "metadata": {
        "id": "3oTK6cjOCsat"
      },
      "source": [
        "from huobi.client.market import *\n",
        "from pyod.models.iforest import IForest\n",
        "import matplotlib.pyplot as plt\n",
        "import numpy as np\n",
        "import time"
      ],
      "execution_count": null,
      "outputs": []
    },
    {
      "cell_type": "markdown",
      "metadata": {
        "id": "BUkXYYpTCl1t"
      },
      "source": [
        "### Recent data"
      ]
    },
    {
      "cell_type": "code",
      "metadata": {
        "id": "P1qwpbAOCoHM"
      },
      "source": [
        "market_client = MarketClient()\n",
        "\n",
        "def data_collection(symbol, period, size):\n",
        "  candle_list = []\n",
        "  close_list = []\n",
        "  vol_list = []\n",
        "  kline_data = market_client.get_candlestick(symbol, period, size)\n",
        "  for i in kline_data:\n",
        "    temp_data = [i.high, i.low, i.open, i.close, i.amount, i.count, i.vol]\n",
        "    candle_list.append(temp_data)\n",
        "    close_list.append(i.close)\n",
        "    vol_list.append(i.vol)\n",
        "  candle_list = list(reversed(candle_list))\n",
        "  close_list = list(reversed(close_list))\n",
        "  vol_list = list(reversed(vol_list))\n",
        "\n",
        "  candle_array = np.array(candle_list)\n",
        "\n",
        "  return candle_array, close_list, vol_list"
      ],
      "execution_count": null,
      "outputs": []
    },
    {
      "cell_type": "markdown",
      "metadata": {
        "id": "HMbYi219tx5d"
      },
      "source": [
        "### IForest"
      ]
    },
    {
      "cell_type": "code",
      "metadata": {
        "id": "KsQyL9y0uDvj"
      },
      "source": [
        "clf = IForest()\n",
        "\n",
        "def anomaly_detect(candle_array):\n",
        "  clf.fit(candle_array)\n",
        "  y_train_pred = clf.labels_\n",
        "  y_train_scores = clf.decision_scores_\n",
        "  \n",
        "  return y_train_pred, y_train_scores"
      ],
      "execution_count": null,
      "outputs": []
    },
    {
      "cell_type": "markdown",
      "metadata": {
        "id": "xN0FNHZf2O77"
      },
      "source": [
        "### Result"
      ]
    },
    {
      "cell_type": "code",
      "metadata": {
        "id": "f-laqTu22RWK"
      },
      "source": [
        "def anomaly_collection(y_train_pred):\n",
        "  anomaly = []\n",
        "  for i in range(len(y_train_pred)):\n",
        "    if y_train_pred[i] == 1:\n",
        "      anomaly.append(i)\n",
        "  \n",
        "  return anomaly"
      ],
      "execution_count": null,
      "outputs": []
    },
    {
      "cell_type": "markdown",
      "metadata": {
        "id": "47CjD1a9B5yl"
      },
      "source": [
        "### Full function"
      ]
    },
    {
      "cell_type": "code",
      "metadata": {
        "colab": {
          "base_uri": "https://localhost:8080/",
          "height": 265
        },
        "id": "RQ_nHM1xB7gN",
        "outputId": "f4e70069-35d3-475e-ab0f-4eb63245593a"
      },
      "source": [
        "candle_symbol = 'btcusdt'\n",
        "candle_period = '1min'\n",
        "candle_size = 200\n",
        "\n",
        "candle_array, close_list, vol_list = data_collection(candle_symbol, candle_period, candle_size)\n",
        "y_train_pred, y_train_scores = anomaly_detect(candle_array)\n",
        "anomaly = anomaly_collection(y_train_pred)\n",
        "\n",
        "plt.plot(close_list[0:candle_size])\n",
        "for i in range(len(anomaly)):\n",
        "  plt.plot(anomaly[i], close_list[anomaly[i]], color='r', marker='o', linewidth=0.2)\n",
        "\n",
        "if anomaly[-1] == candle_size - 1:\n",
        "  print('异常出现')"
      ],
      "execution_count": null,
      "outputs": [
        {
          "output_type": "display_data",
          "data": {
            "image/png": "[encoded data removed]",
            "text/plain": [
              "<Figure size 432x288 with 1 Axes>"
            ]
          },
          "metadata": {
            "tags": [],
            "needs_background": "light"
          }
        }
      ]
    },
    {
      "cell_type": "code",
      "metadata": {
        "colab": {
          "base_uri": "https://localhost:8080/",
          "height": 294
        },
        "id": "_-R__zFfOe0Z",
        "outputId": "2b734357-2021-486f-bbbc-7b3976d0c25a"
      },
      "source": [
        "plt.plot(vol_list)"
      ],
      "execution_count": null,
      "outputs": [
        {
          "output_type": "execute_result",
          "data": {
            "text/plain": [
              "[<matplotlib.lines.Line2D at 0x7f1d04ff8050>]"
            ]
          },
          "metadata": {
            "tags": []
          },
          "execution_count": 27
        },
        {
          "output_type": "display_data",
          "data": {
            "image/png": "[encoded data removed]",
            "text/plain": [
              "<Figure size 432x288 with 1 Axes>"
            ]
          },
          "metadata": {
            "tags": [],
            "needs_background": "light"
          }
        }
      ]
    }
  ]
}
